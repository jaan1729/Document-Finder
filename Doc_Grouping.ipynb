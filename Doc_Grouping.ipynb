{
  "nbformat": 4,
  "nbformat_minor": 0,
  "metadata": {
    "colab": {
      "name": "Doc Grouping.ipynb",
      "provenance": [],
      "machine_shape": "hm",
      "authorship_tag": "ABX9TyP0JhuLhxm/nMeaXJTCfCjU",
      "include_colab_link": true
    },
    "kernelspec": {
      "name": "python3",
      "display_name": "Python 3"
    },
    "accelerator": "TPU"
  },
  "cells": [
    {
      "cell_type": "markdown",
      "metadata": {
        "id": "view-in-github",
        "colab_type": "text"
      },
      "source": [
        "<a href=\"https://colab.research.google.com/github/jaan1729/Document-Finder/blob/master/Doc_Grouping.ipynb\" target=\"_parent\"><img src=\"https://colab.research.google.com/assets/colab-badge.svg\" alt=\"Open In Colab\"/></a>"
      ]
    },
    {
      "cell_type": "code",
      "metadata": {
        "colab_type": "code",
        "outputId": "3a4f1237-cf31-4620-8717-04d258a0aeac",
        "id": "yGdewk6wJ3x0",
        "colab": {
          "base_uri": "https://localhost:8080/",
          "height": 204
        }
      },
      "source": [
        "!wget https://bulkdata.uspto.gov/data/patent/grant/redbook/2020/I20200107.tar"
      ],
      "execution_count": 0,
      "outputs": [
        {
          "output_type": "stream",
          "text": [
            "--2020-03-16 15:58:18--  https://bulkdata.uspto.gov/data/patent/grant/redbook/2020/I20200107.tar\n",
            "Resolving bulkdata.uspto.gov (bulkdata.uspto.gov)... 151.207.240.28, 2610:20:5004:1604::28\n",
            "Connecting to bulkdata.uspto.gov (bulkdata.uspto.gov)|151.207.240.28|:443... connected.\n",
            "HTTP request sent, awaiting response... 200 OK\n",
            "Length: 4198328320 (3.9G) [application/x-tar]\n",
            "Saving to: ‘I20200107.tar.1’\n",
            "\n",
            "I20200107.tar.1     100%[===================>]   3.91G  1.82MB/s    in 31m 41s \n",
            "\n",
            "2020-03-16 16:29:59 (2.11 MB/s) - ‘I20200107.tar.1’ saved [4198328320/4198328320]\n",
            "\n"
          ],
          "name": "stdout"
        }
      ]
    },
    {
      "cell_type": "code",
      "metadata": {
        "id": "mDGCZk7-buLI",
        "colab_type": "code",
        "outputId": "67ab7484-37fa-47dc-f14d-80938f2c1591",
        "colab": {
          "base_uri": "https://localhost:8080/",
          "height": 102
        }
      },
      "source": [
        "!unzip 'I20200107.tar'"
      ],
      "execution_count": 0,
      "outputs": [
        {
          "output_type": "stream",
          "text": [
            "Archive:  I20200107.tar\n",
            "warning [I20200107.tar]:  4197514752 extra bytes at beginning or within zipfile\n",
            "  (attempting to process anyway)\n",
            "   creating: US10526658-20200107-SUPP/\n",
            "  inflating: US10526658-20200107-SUPP/US10526658-20200107-S00001.TXT  \n"
          ],
          "name": "stdout"
        }
      ]
    },
    {
      "cell_type": "code",
      "metadata": {
        "id": "gsVC08P3b9eE",
        "colab_type": "code",
        "colab": {}
      },
      "source": [
        "file = open('US10526658-20200107-SUPP/US10526658-20200107-S00001.TXT')"
      ],
      "execution_count": 0,
      "outputs": []
    },
    {
      "cell_type": "code",
      "metadata": {
        "id": "Y0S_ORUHcPv_",
        "colab_type": "code",
        "outputId": "6711d088-b32f-4ba2-f258-52b31350fa42",
        "colab": {
          "base_uri": "https://localhost:8080/",
          "height": 163
        }
      },
      "source": [
        "print(file.text)"
      ],
      "execution_count": 0,
      "outputs": [
        {
          "output_type": "error",
          "ename": "AttributeError",
          "evalue": "ignored",
          "traceback": [
            "\u001b[0;31m---------------------------------------------------------------------------\u001b[0m",
            "\u001b[0;31mAttributeError\u001b[0m                            Traceback (most recent call last)",
            "\u001b[0;32m<ipython-input-33-b859c7bba79d>\u001b[0m in \u001b[0;36m<module>\u001b[0;34m()\u001b[0m\n\u001b[0;32m----> 1\u001b[0;31m \u001b[0mprint\u001b[0m\u001b[0;34m(\u001b[0m\u001b[0mfile\u001b[0m\u001b[0;34m.\u001b[0m\u001b[0mtext\u001b[0m\u001b[0;34m)\u001b[0m\u001b[0;34m\u001b[0m\u001b[0;34m\u001b[0m\u001b[0m\n\u001b[0m",
            "\u001b[0;31mAttributeError\u001b[0m: '_io.TextIOWrapper' object has no attribute 'text'"
          ]
        }
      ]
    },
    {
      "cell_type": "code",
      "metadata": {
        "id": "LlzxoQKCIkmi",
        "colab_type": "code",
        "colab": {}
      },
      "source": [
        "import tarfile\n",
        "fname = 'I20200107.tar'\n",
        "tar = tarfile.open(fname, \"r:\")\n",
        "tar.extractall()\n",
        "tar.close()\n"
      ],
      "execution_count": 0,
      "outputs": []
    },
    {
      "cell_type": "code",
      "metadata": {
        "id": "3XS32ABKzOqA",
        "colab_type": "code",
        "outputId": "e196c1d9-566c-45cf-aaff-44a6cc49e3a5",
        "colab": {
          "base_uri": "https://localhost:8080/",
          "height": 462
        }
      },
      "source": [
        "pip install shuttle"
      ],
      "execution_count": 0,
      "outputs": [
        {
          "output_type": "stream",
          "text": [
            "Collecting shuttle\n",
            "  Downloading https://files.pythonhosted.org/packages/1d/89/86e9c9ee883eca2ce381d07955f9f455a1c4ac5e4243521e493758538515/shuttle-0.8.tar.gz\n",
            "Requirement already satisfied: babel in /usr/local/lib/python3.6/dist-packages (from shuttle) (2.8.0)\n",
            "Collecting deskapi\n",
            "  Downloading https://files.pythonhosted.org/packages/20/2e/41f32bf08c7abfbca078f62134c24fe5a8fbe9cff5d865ff21a15b877cdc/deskapi-0.1.tar.gz\n",
            "Collecting txlib-too\n",
            "\u001b[?25l  Downloading https://files.pythonhosted.org/packages/27/47/f383742fc5ec57521f2f898756749a62632fafd68380f3ab60e6051d1ca0/txlib_too-0.1.8-py2.py3-none-any.whl (40kB)\n",
            "\u001b[K     |████████████████████████████████| 40kB 2.7MB/s \n",
            "\u001b[?25hRequirement already satisfied: pytz>=2015.7 in /usr/local/lib/python3.6/dist-packages (from babel->shuttle) (2018.9)\n",
            "Requirement already satisfied: requests in /usr/local/lib/python3.6/dist-packages (from deskapi->shuttle) (2.21.0)\n",
            "Requirement already satisfied: six in /usr/local/lib/python3.6/dist-packages (from txlib-too->shuttle) (1.12.0)\n",
            "Requirement already satisfied: chardet<3.1.0,>=3.0.2 in /usr/local/lib/python3.6/dist-packages (from requests->deskapi->shuttle) (3.0.4)\n",
            "Requirement already satisfied: certifi>=2017.4.17 in /usr/local/lib/python3.6/dist-packages (from requests->deskapi->shuttle) (2019.11.28)\n",
            "Requirement already satisfied: urllib3<1.25,>=1.21.1 in /usr/local/lib/python3.6/dist-packages (from requests->deskapi->shuttle) (1.24.3)\n",
            "Requirement already satisfied: idna<2.9,>=2.5 in /usr/local/lib/python3.6/dist-packages (from requests->deskapi->shuttle) (2.8)\n",
            "Building wheels for collected packages: shuttle, deskapi\n",
            "  Building wheel for shuttle (setup.py) ... \u001b[?25l\u001b[?25hdone\n",
            "  Created wheel for shuttle: filename=shuttle-0.8-cp36-none-any.whl size=11714 sha256=cdf39ac7e17024daae34a64c72e9081e7008487aad96782c6ba8512fda5c3de7\n",
            "  Stored in directory: /root/.cache/pip/wheels/87/76/eb/ebb58ccb660bfdd5ef8cd867a46348e0d1021e7eb2873bdac7\n",
            "  Building wheel for deskapi (setup.py) ... \u001b[?25l\u001b[?25hdone\n",
            "  Created wheel for deskapi: filename=deskapi-0.1-cp36-none-any.whl size=7891 sha256=5953cd8f02d180be8d5e3d5d4520295df4ecf0a372299dfa609da3dc4fe76002\n",
            "  Stored in directory: /root/.cache/pip/wheels/34/bf/16/3a1e2560974493021ea69539a7bad3c8f874633c5a3d5a30c9\n",
            "Successfully built shuttle deskapi\n",
            "Installing collected packages: deskapi, txlib-too, shuttle\n",
            "Successfully installed deskapi-0.1 shuttle-0.8 txlib-too-0.1.8\n"
          ],
          "name": "stdout"
        }
      ]
    },
    {
      "cell_type": "code",
      "metadata": {
        "id": "8i0ybmY5yj2_",
        "colab_type": "code",
        "outputId": "997779f0-02a9-447e-f697-0bc1e501fe54",
        "colab": {
          "base_uri": "https://localhost:8080/",
          "height": 1000
        }
      },
      "source": [
        "import os\n",
        "from os import listdir\n",
        "import zipfile\n",
        "import html\n",
        "import shutil\n",
        "from bs4 import BeautifulSoup\n",
        "i = 0\n",
        "patentFolder = '/content/patentFile'\n",
        "corpus_file = open('corpus_file.txt', 'w')\n",
        "mypath = os.path.join(\"I20200107/\")\n",
        "for folder in listdir(mypath):\n",
        "  folderPath = os.path.join(mypath,folder)\n",
        "  for file in listdir(folderPath):\n",
        "    filePath = os.path.join(folderPath, file)\n",
        "    zip_ref = zipfile.ZipFile(filePath, 'r')\n",
        "    zip_ref.extractall(patentFolder)\n",
        "    zip_ref.close()\n",
        "    for folderP in listdir(patentFolder):\n",
        "      folderPathP = os.path.join(patentFolder,folderP)\n",
        "      \n",
        "      xml_file = os.path.join(folderPathP,folderP+\".XML\")\n",
        "      if folderP+\".XML\" in os.listdir(folderPathP):\n",
        "        xml_text = html.unescape(open(xml_file, 'r').read())\n",
        "        for patent in xml_text.split(\"<?xml version=\\\"1.0\\\" encoding=\\\"UTF-8\\\"?>\"):\n",
        "    \n",
        "          # Skip if it doesn't exist\n",
        "          if patent is None or patent == \"\":\n",
        "            continue \n",
        "      \n",
        "          # Load patent text as HTML document\n",
        "          bs = BeautifulSoup(patent)                                     \n",
        "          title = bs.find('invention-title').text\n",
        "          abstracts = \"\"\n",
        "          for el in bs.find_all('abstract'):\n",
        "            abstracts += el.text\n",
        "\n",
        "          descriptions = \"\"\n",
        "          for el in bs.find_all('description'):\n",
        "            descriptions += el.text\n",
        "          corpus_file.writelines([title, abstracts, descriptions])\n",
        "          i+=1\n",
        "          if i%50 == 0:\n",
        "            print(i)\n",
        "            print(folder)\n",
        "      shutil.rmtree(folderPathP)"
      ],
      "execution_count": 0,
      "outputs": [
        {
          "output_type": "stream",
          "text": [
            "50\n",
            "UTIL10524\n",
            "100\n",
            "UTIL10524\n",
            "150\n",
            "UTIL10524\n",
            "200\n",
            "UTIL10524\n",
            "250\n",
            "UTIL10524\n",
            "300\n",
            "UTIL10524\n",
            "350\n",
            "UTIL10524\n",
            "400\n",
            "UTIL10524\n",
            "450\n",
            "UTIL10524\n",
            "500\n",
            "UTIL10524\n",
            "550\n",
            "UTIL10524\n",
            "600\n",
            "UTIL10524\n",
            "650\n",
            "DESIGN\n",
            "700\n",
            "DESIGN\n",
            "750\n",
            "DESIGN\n",
            "800\n",
            "DESIGN\n",
            "850\n",
            "DESIGN\n",
            "900\n",
            "DESIGN\n",
            "950\n",
            "DESIGN\n",
            "1000\n",
            "DESIGN\n",
            "1050\n",
            "DESIGN\n",
            "1100\n",
            "DESIGN\n",
            "1150\n",
            "DESIGN\n",
            "1200\n",
            "DESIGN\n",
            "1250\n",
            "DESIGN\n",
            "1300\n",
            "DESIGN\n",
            "1350\n",
            "UTIL10529\n",
            "1400\n",
            "UTIL10529\n",
            "1450\n",
            "UTIL10529\n",
            "1500\n",
            "UTIL10529\n",
            "1550\n",
            "UTIL10529\n",
            "1600\n",
            "UTIL10529\n",
            "1650\n",
            "UTIL10529\n",
            "1700\n",
            "UTIL10529\n",
            "1750\n",
            "UTIL10529\n",
            "1800\n",
            "UTIL10529\n",
            "1850\n",
            "UTIL10529\n",
            "1900\n",
            "UTIL10529\n",
            "1950\n",
            "UTIL10529\n",
            "2000\n",
            "UTIL10529\n",
            "2050\n",
            "UTIL10529\n",
            "2100\n",
            "UTIL10529\n",
            "2150\n",
            "UTIL10529\n",
            "2200\n",
            "UTIL10529\n",
            "2250\n",
            "UTIL10529\n",
            "2300\n",
            "UTIL10529\n",
            "2350\n",
            "UTIL10526\n",
            "2400\n",
            "UTIL10526\n",
            "2450\n",
            "UTIL10526\n",
            "2500\n",
            "UTIL10526\n",
            "2550\n",
            "UTIL10526\n",
            "2600\n",
            "UTIL10526\n",
            "2650\n",
            "UTIL10526\n",
            "2700\n",
            "UTIL10526\n",
            "2750\n",
            "UTIL10526\n",
            "2800\n",
            "UTIL10526\n",
            "2850\n",
            "UTIL10526\n",
            "2900\n",
            "UTIL10526\n",
            "2950\n",
            "UTIL10526\n",
            "3000\n",
            "UTIL10526\n",
            "3050\n",
            "UTIL10526\n",
            "3100\n",
            "UTIL10526\n",
            "3150\n",
            "UTIL10526\n",
            "3200\n",
            "UTIL10526\n",
            "3250\n",
            "UTIL10526\n",
            "3300\n",
            "UTIL10526\n",
            "3350\n",
            "UTIL10525\n",
            "3400\n",
            "UTIL10525\n",
            "3450\n",
            "UTIL10525\n",
            "3500\n",
            "UTIL10525\n",
            "3550\n",
            "UTIL10525\n",
            "3600\n",
            "UTIL10525\n",
            "3650\n",
            "UTIL10525\n",
            "3700\n",
            "UTIL10525\n",
            "3750\n",
            "UTIL10525\n",
            "3800\n",
            "UTIL10525\n",
            "3850\n",
            "UTIL10525\n",
            "3900\n",
            "UTIL10525\n",
            "3950\n",
            "UTIL10525\n",
            "4000\n",
            "UTIL10525\n",
            "4050\n",
            "UTIL10525\n",
            "4100\n",
            "UTIL10525\n",
            "4150\n",
            "UTIL10525\n",
            "4200\n",
            "UTIL10525\n",
            "4250\n",
            "UTIL10525\n",
            "4300\n",
            "UTIL10531\n",
            "4350\n",
            "UTIL10531\n",
            "4400\n",
            "UTIL10531\n",
            "4450\n",
            "UTIL10531\n",
            "4500\n",
            "UTIL10531\n",
            "4550\n",
            "UTIL10531\n",
            "4600\n",
            "UTIL10531\n",
            "4650\n",
            "UTIL10531\n",
            "4700\n",
            "UTIL10531\n",
            "4750\n",
            "UTIL10531\n",
            "4800\n",
            "UTIL10531\n",
            "4850\n",
            "UTIL10531\n",
            "4900\n",
            "UTIL10527\n",
            "4950\n",
            "UTIL10527\n",
            "5000\n",
            "UTIL10527\n",
            "5050\n",
            "UTIL10527\n",
            "5100\n",
            "UTIL10527\n",
            "5150\n",
            "UTIL10527\n",
            "5200\n",
            "UTIL10527\n",
            "5250\n",
            "UTIL10527\n",
            "5300\n",
            "UTIL10527\n",
            "5350\n",
            "UTIL10527\n",
            "5400\n",
            "UTIL10527\n",
            "5450\n",
            "UTIL10527\n",
            "5500\n",
            "UTIL10527\n",
            "5550\n",
            "UTIL10527\n",
            "5600\n",
            "UTIL10527\n",
            "5650\n",
            "UTIL10527\n",
            "5700\n",
            "UTIL10527\n",
            "5750\n",
            "UTIL10527\n",
            "5800\n",
            "UTIL10527\n",
            "5850\n",
            "UTIL10527\n",
            "5900\n",
            "REISSUE\n",
            "5950\n",
            "UTIL10530\n",
            "6000\n",
            "UTIL10530\n",
            "6050\n",
            "UTIL10530\n",
            "6100\n",
            "UTIL10530\n",
            "6150\n",
            "UTIL10530\n",
            "6200\n",
            "UTIL10530\n",
            "6250\n",
            "UTIL10530\n",
            "6300\n",
            "UTIL10530\n",
            "6350\n",
            "UTIL10530\n",
            "6400\n",
            "UTIL10530\n",
            "6450\n",
            "UTIL10530\n",
            "6500\n",
            "UTIL10530\n",
            "6550\n",
            "UTIL10530\n",
            "6600\n",
            "UTIL10530\n",
            "6650\n",
            "UTIL10530\n",
            "6700\n",
            "UTIL10530\n",
            "6750\n",
            "UTIL10530\n",
            "6800\n",
            "UTIL10530\n",
            "6850\n",
            "UTIL10530\n",
            "6900\n",
            "UTIL10528\n",
            "6950\n",
            "UTIL10528\n",
            "7000\n",
            "UTIL10528\n",
            "7050\n",
            "UTIL10528\n",
            "7100\n",
            "UTIL10528\n",
            "7150\n",
            "UTIL10528\n",
            "7200\n",
            "UTIL10528\n",
            "7250\n",
            "UTIL10528\n",
            "7300\n",
            "UTIL10528\n",
            "7350\n",
            "UTIL10528\n",
            "7400\n",
            "UTIL10528\n",
            "7450\n",
            "UTIL10528\n",
            "7500\n",
            "UTIL10528\n",
            "7550\n",
            "UTIL10528\n",
            "7600\n",
            "UTIL10528\n",
            "7650\n",
            "UTIL10528\n",
            "7700\n",
            "UTIL10528\n",
            "7750\n",
            "UTIL10528\n",
            "7800\n",
            "UTIL10528\n",
            "7850\n",
            "UTIL10528\n"
          ],
          "name": "stdout"
        }
      ]
    },
    {
      "cell_type": "code",
      "metadata": {
        "id": "fItvxbqbVz-0",
        "colab_type": "code",
        "outputId": "7f7b88e5-0763-4567-8f13-7f94752fd90a",
        "colab": {
          "base_uri": "https://localhost:8080/",
          "height": 34
        }
      },
      "source": [
        "examplePath = \"/content/I20200107/UTIL10524\"\n",
        "exampleFile = os.path.join(examplePath,\"US10524402-20200107.ZIP\")\n",
        "print(exampleFile)"
      ],
      "execution_count": 0,
      "outputs": [
        {
          "output_type": "stream",
          "text": [
            "/content/I20200107/UTIL10524/US10524402-20200107.ZIP\n"
          ],
          "name": "stdout"
        }
      ]
    },
    {
      "cell_type": "code",
      "metadata": {
        "id": "GVaANuCOi4Sl",
        "colab_type": "code",
        "colab": {}
      },
      "source": [
        "import zipfile\n",
        "zip_ref = zipfile.ZipFile(exampleFile, 'r')\n",
        "zip_ref.extractall('/content')\n",
        "zip_ref.close()"
      ],
      "execution_count": 0,
      "outputs": []
    },
    {
      "cell_type": "code",
      "metadata": {
        "id": "SMsKmLxty-Lh",
        "colab_type": "code",
        "colab": {}
      },
      "source": [
        "import html\n",
        "xml_file = 'US10524402-20200107/US10524402-20200107.XML'\n",
        "xml_text = html.unescape(open(xml_file, 'r').read())\n"
      ],
      "execution_count": 0,
      "outputs": []
    },
    {
      "cell_type": "code",
      "metadata": {
        "id": "IcPNPWTZTy0S",
        "colab_type": "code",
        "outputId": "c4203d2d-b166-4021-b2ae-19ab0a3d0ef7",
        "colab": {
          "base_uri": "https://localhost:8080/",
          "height": 513
        }
      },
      "source": [
        "print(xml_text[:1000])"
      ],
      "execution_count": 0,
      "outputs": [
        {
          "output_type": "stream",
          "text": [
            "<?xml version=\"1.0\" encoding=\"UTF-8\"?>\n",
            "<!DOCTYPE us-patent-grant SYSTEM \"us-patent-grant-v45-2014-04-03.dtd\" [ ]>\n",
            "<us-patent-grant lang=\"EN\" dtd-version=\"v4.5 2014-04-03\" file=\"US10524402-20200107.XML\" status=\"PRODUCTION\" id=\"us-patent-grant\" country=\"US\" date-produced=\"20191223\" date-publ=\"20200107\">\n",
            "<us-bibliographic-data-grant>\n",
            "<publication-reference>\n",
            "<document-id>\n",
            "<country>US</country>\n",
            "<doc-number>10524402</doc-number>\n",
            "<kind>B2</kind>\n",
            "<date>20200107</date>\n",
            "</document-id>\n",
            "</publication-reference>\n",
            "<application-reference appl-type=\"utility\">\n",
            "<document-id>\n",
            "<country>US</country>\n",
            "<doc-number>15665025</doc-number>\n",
            "<date>20170731</date>\n",
            "</document-id>\n",
            "</application-reference>\n",
            "<us-application-series-code>15</us-application-series-code>\n",
            "<us-term-of-grant>\n",
            "<us-term-extension>116</us-term-extension>\n",
            "</us-term-of-grant>\n",
            "<classifications-ipcr>\n",
            "<classification-ipcr>\n",
            "<ipc-version-indicator><date>20060101</date></ipc-version-indicator>\n",
            "<classification-level>A</classification-level>\n",
            "<section>A</sect\n"
          ],
          "name": "stdout"
        }
      ]
    },
    {
      "cell_type": "code",
      "metadata": {
        "id": "LaJSDZb9UMu8",
        "colab_type": "code",
        "outputId": "b77ed704-ecb7-4f95-d37d-27037e875b43",
        "colab": {
          "base_uri": "https://localhost:8080/",
          "height": 34
        }
      },
      "source": [
        "bs = BeautifulSoup(\"US/16/412,331\")\n",
        "application = bs.find('us-patent-grant')\n",
        "print(application)"
      ],
      "execution_count": 0,
      "outputs": [
        {
          "output_type": "stream",
          "text": [
            "None\n"
          ],
          "name": "stdout"
        }
      ]
    },
    {
      "cell_type": "code",
      "metadata": {
        "id": "NcIGyaQUzaot",
        "colab_type": "code",
        "outputId": "348bdd48-5542-43e0-994f-1d1d86d1ee7e",
        "colab": {
          "base_uri": "https://localhost:8080/",
          "height": 901
        }
      },
      "source": [
        "!apt-get install python3-bs4"
      ],
      "execution_count": 0,
      "outputs": [
        {
          "output_type": "stream",
          "text": [
            "Reading package lists... Done\n",
            "Building dependency tree       \n",
            "Reading state information... Done\n",
            "The following additional packages will be installed:\n",
            "  python3-chardet python3-html5lib python3-lxml python3-pkg-resources\n",
            "  python3-six python3-webencodings\n",
            "Suggested packages:\n",
            "  python3-genshi python3-lxml-dbg python-lxml-doc python3-setuptools\n",
            "The following NEW packages will be installed:\n",
            "  python3-bs4 python3-chardet python3-html5lib python3-lxml\n",
            "  python3-pkg-resources python3-six python3-webencodings\n",
            "0 upgraded, 7 newly installed, 0 to remove and 25 not upgraded.\n",
            "Need to get 1,442 kB of archives.\n",
            "After this operation, 6,141 kB of additional disk space will be used.\n",
            "Get:1 http://archive.ubuntu.com/ubuntu bionic/main amd64 python3-bs4 all 4.6.0-1 [67.8 kB]\n",
            "Get:2 http://archive.ubuntu.com/ubuntu bionic/main amd64 python3-pkg-resources all 39.0.1-2 [98.8 kB]\n",
            "Get:3 http://archive.ubuntu.com/ubuntu bionic/main amd64 python3-chardet all 3.0.4-1 [80.3 kB]\n",
            "Get:4 http://archive.ubuntu.com/ubuntu bionic/main amd64 python3-six all 1.11.0-2 [11.4 kB]\n",
            "Get:5 http://archive.ubuntu.com/ubuntu bionic/main amd64 python3-webencodings all 0.5-2 [10.4 kB]\n",
            "Get:6 http://archive.ubuntu.com/ubuntu bionic/main amd64 python3-html5lib all 0.999999999-1 [81.9 kB]\n",
            "Get:7 http://archive.ubuntu.com/ubuntu bionic-updates/main amd64 python3-lxml amd64 4.2.1-1ubuntu0.1 [1,091 kB]\n",
            "Fetched 1,442 kB in 1s (1,423 kB/s)\n",
            "Selecting previously unselected package python3-bs4.\n",
            "(Reading database ... 134448 files and directories currently installed.)\n",
            "Preparing to unpack .../0-python3-bs4_4.6.0-1_all.deb ...\n",
            "Unpacking python3-bs4 (4.6.0-1) ...\n",
            "Selecting previously unselected package python3-pkg-resources.\n",
            "Preparing to unpack .../1-python3-pkg-resources_39.0.1-2_all.deb ...\n",
            "Unpacking python3-pkg-resources (39.0.1-2) ...\n",
            "Selecting previously unselected package python3-chardet.\n",
            "Preparing to unpack .../2-python3-chardet_3.0.4-1_all.deb ...\n",
            "Unpacking python3-chardet (3.0.4-1) ...\n",
            "Selecting previously unselected package python3-six.\n",
            "Preparing to unpack .../3-python3-six_1.11.0-2_all.deb ...\n",
            "Unpacking python3-six (1.11.0-2) ...\n",
            "Selecting previously unselected package python3-webencodings.\n",
            "Preparing to unpack .../4-python3-webencodings_0.5-2_all.deb ...\n",
            "Unpacking python3-webencodings (0.5-2) ...\n",
            "Selecting previously unselected package python3-html5lib.\n",
            "Preparing to unpack .../5-python3-html5lib_0.999999999-1_all.deb ...\n",
            "Unpacking python3-html5lib (0.999999999-1) ...\n",
            "Selecting previously unselected package python3-lxml:amd64.\n",
            "Preparing to unpack .../6-python3-lxml_4.2.1-1ubuntu0.1_amd64.deb ...\n",
            "Unpacking python3-lxml:amd64 (4.2.1-1ubuntu0.1) ...\n",
            "Setting up python3-webencodings (0.5-2) ...\n",
            "Setting up python3-lxml:amd64 (4.2.1-1ubuntu0.1) ...\n",
            "Setting up python3-six (1.11.0-2) ...\n",
            "Setting up python3-pkg-resources (39.0.1-2) ...\n",
            "Setting up python3-bs4 (4.6.0-1) ...\n",
            "Setting up python3-chardet (3.0.4-1) ...\n",
            "Setting up python3-html5lib (0.999999999-1) ...\n",
            "Processing triggers for man-db (2.8.3-2ubuntu0.1) ...\n"
          ],
          "name": "stdout"
        }
      ]
    },
    {
      "cell_type": "code",
      "metadata": {
        "id": "P0bBBkDaz2Nj",
        "colab_type": "code",
        "outputId": "b4e9ea52-421f-49ad-f81d-689318d21f80",
        "colab": {
          "base_uri": "https://localhost:8080/",
          "height": 51
        }
      },
      "source": [
        "from bs4 import BeautifulSoup\n",
        "corpus = \"\"\n",
        "i = 0\n",
        "for patent in xml_text.split(\"<?xml version=\\\"1.0\\\" encoding=\\\"UTF-8\\\"?>\"):\n",
        "  \n",
        "  # Skip if it doesn't exist\n",
        "  if patent is None or patent == \"\":\n",
        "    continue \n",
        "  \n",
        "  # Load patent text as HTML document\n",
        "  bs = BeautifulSoup(patent)                                     \n",
        "  title = bs.find('invention-title').text\n",
        "  print(title)\n",
        "  # Search patent for application \n",
        "  application = bs.find('us-patent-application')\n",
        "  \n",
        "  # If no application, search for grant\n",
        "  if application is None: \n",
        "    application = bs.find('us-patent-grant')\n",
        "  #print(application)\n",
        "  i+=1\n",
        "  if (i > 5): break\n",
        "print(i)"
      ],
      "execution_count": 0,
      "outputs": [
        {
          "output_type": "stream",
          "text": [
            "Method and apparatus for automated plan necrosis\n",
            "1\n"
          ],
          "name": "stdout"
        }
      ]
    },
    {
      "cell_type": "code",
      "metadata": {
        "id": "VmjXPZYBR76O",
        "colab_type": "code",
        "outputId": "17d58f22-880c-48bb-d5a7-192382a845c2",
        "colab": {
          "base_uri": "https://localhost:8080/",
          "height": 34
        }
      },
      "source": [
        "print(application)"
      ],
      "execution_count": 0,
      "outputs": [
        {
          "output_type": "stream",
          "text": [
            "None\n"
          ],
          "name": "stdout"
        }
      ]
    },
    {
      "cell_type": "code",
      "metadata": {
        "id": "jjCavbnYo9KZ",
        "colab_type": "code",
        "outputId": "88294987-cb41-4275-9be0-1893ca038422",
        "colab": {
          "base_uri": "https://localhost:8080/",
          "height": 34
        }
      },
      "source": [
        "print(os.system(\"ls\"))"
      ],
      "execution_count": 0,
      "outputs": [
        {
          "output_type": "stream",
          "text": [
            "0\n"
          ],
          "name": "stdout"
        }
      ]
    },
    {
      "cell_type": "code",
      "metadata": {
        "id": "h41rvpXL4nKv",
        "colab_type": "code",
        "colab": {}
      },
      "source": [
        "words = discription.split(\" \")"
      ],
      "execution_count": 0,
      "outputs": []
    }
  ]
}